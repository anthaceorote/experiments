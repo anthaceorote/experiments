{
 "cells": [
  {
   "cell_type": "markdown",
   "metadata": {},
   "source": [
    "### Probabilistic Programming - A/B Test"
   ]
  },
  {
   "cell_type": "markdown",
   "metadata": {},
   "source": [
    "Motivation: https://www.oreilly.com/learning/probabilistic-programming-from-scratch  \n",
    "\n",
    "Goals:\n",
    "* To try and understand how you can simulate A/B test in Python\n",
    "* Use it to solve a real life (relevant) problem\n",
    "\n",
    "Reference: https://www.youtube.com/watch?v=KqTUNJ1smYM"
   ]
  },
  {
   "cell_type": "markdown",
   "metadata": {},
   "source": [
    "** Example 1 **:  \n",
    "Two trading strategies - which beats alpha?  \n",
    "Some prior guess probability of them beating the market (some value backed by the strategies themselves)  \n",
    "First guess - take samples from a distribution for an agreeable large quantity and take mean (Maximum Likelihood Estimate)  \n",
    "Second guess - run a statistical test and compare against p-value  \n",
    "Third - bayes := prior + data = posterior"
   ]
  },
  {
   "cell_type": "markdown",
   "metadata": {},
   "source": [
    "** Example 2 : **  \n",
    "Two strikers  \n",
    "Given their shot conversion rate, who might score more goals in long run?"
   ]
  },
  {
   "cell_type": "code",
   "execution_count": 1,
   "metadata": {},
   "outputs": [],
   "source": [
    "import random\n",
    "import itertools\n",
    "import matplotlib.pyplot as plt\n",
    "# _ = plt.figure(figsize=(15,10))"
   ]
  },
  {
   "cell_type": "code",
   "execution_count": 2,
   "metadata": {
    "collapsed": true
   },
   "outputs": [],
   "source": [
    "def prior_sampler_uniform():\n",
    "    ''' Yield samples in Uniform Distribution in interval (0,1) '''\n",
    "    while True:\n",
    "        yield random.random()"
   ]
  },
  {
   "cell_type": "code",
   "execution_count": 3,
   "metadata": {
    "collapsed": true
   },
   "outputs": [],
   "source": [
    "def prior_sampler_normal(mu, sigma):\n",
    "    ''' Yield samples from N(mu, sigma) in interval (0,1) '''\n",
    "    while True:\n",
    "        x = random.normalvariate(mu, sigma)\n",
    "        if 0 <= x <= 1:\n",
    "            yield x"
   ]
  },
  {
   "cell_type": "code",
   "execution_count": 4,
   "metadata": {
    "collapsed": true
   },
   "outputs": [],
   "source": [
    "def posterior_sampler(data, prior_sampler, simulate):\n",
    "    ''' Generate samples from posterior '''\n",
    "    for p in prior_sampler:\n",
    "        if simulate(p) == data:\n",
    "            yield p"
   ]
  },
  {
   "cell_type": "code",
   "execution_count": 5,
   "metadata": {
    "collapsed": true
   },
   "outputs": [],
   "source": [
    "def simulate_conversion(p, n_obs):\n",
    "    ''' Return simulated probability for n_obs given that you will have a positive outcome with prob p \n",
    "        e.g. Out of 100 visitors, 4 clicked on your link. Will it happen again? simulate_conversion(0.04, 100) will tell.\n",
    "    '''\n",
    "    outcomes = (random.random() < p for _ in range(n_obs))\n",
    "    return sum(outcomes)"
   ]
  },
  {
   "cell_type": "code",
   "execution_count": 6,
   "metadata": {
    "collapsed": true
   },
   "outputs": [],
   "source": [
    "def take(n, iterable):\n",
    "    ''' Return first n items from iterable as a list '''\n",
    "    return list(itertools.islice(iterable, n))"
   ]
  },
  {
   "cell_type": "code",
   "execution_count": 7,
   "metadata": {
    "collapsed": true
   },
   "outputs": [],
   "source": [
    "def plot_hist(sampler_a, sampler_b, n=10000, title='Posterior Distributions'):\n",
    "    ''' Plot histogram for two samplers '''\n",
    "    sampled_data_a = take(n, sampler_a)\n",
    "    sampled_data_b = take(n, sampler_b)\n",
    "    bins = [i/100 for i in range(100)]\n",
    "    \n",
    "    plt.hist(sampled_data_a, bins=bins, label='A', normed=True)\n",
    "    plt.hist(sampled_data_b, bins=bins, label='B', alpha=0.6, normed=True)\n",
    "    plt.xlim(0, max(bins))\n",
    "    plt.title(title)\n",
    "    plt.legend()\n",
    "    plt.show()\n",
    "    \n",
    "    a_beats_b = (sum(a > b for a, b in zip(sampled_data_a, sampled_data_b))/len(sampled_data_a))*100\n",
    "    print(\"We can be {:.2f}% sure that A is better than B\".format(a_beats_b))"
   ]
  },
  {
   "cell_type": "markdown",
   "metadata": {},
   "source": [
    "-------------------"
   ]
  },
  {
   "cell_type": "code",
   "execution_count": 8,
   "metadata": {
    "collapsed": true
   },
   "outputs": [],
   "source": [
    "# Lets call the two strategies for beating the alpha as A and B\n",
    "# A has 60% chance of beating alpha\n",
    "# B has 50%\n",
    "conv_a, n_chances_a = 60, 100\n",
    "conv_b, n_chances_b = 50, 100"
   ]
  },
  {
   "cell_type": "code",
   "execution_count": 9,
   "metadata": {},
   "outputs": [],
   "source": [
    "# Strategy A\n",
    "# Prior belief that it beats alpha 57.5-62.5% of times \n",
    "# We carry the same belief as observed values for posterior (on average 60 out of 100 times A beats Alpha)\n",
    "prior_sampler_a = prior_sampler_normal(mu=0.6, sigma=0.05)\n",
    "posterior_sampler_a = posterior_sampler(\n",
    "    data=conv_a, \n",
    "    prior_sampler=prior_sampler_a,\n",
    "    simulate=lambda p: simulate_conversion(p, n_chances_a)\n",
    ")"
   ]
  },
  {
   "cell_type": "code",
   "execution_count": 10,
   "metadata": {
    "collapsed": true
   },
   "outputs": [],
   "source": [
    "# Strategy B\n",
    "# Prior belief that it beats alpha 45-55% of times\n",
    "# We carry the same belief as observed values for posterior (on average 50 out of 100 times B beats Alpha)\n",
    "prior_sampler_b = prior_sampler_normal(mu=0.5, sigma=0.1)\n",
    "posterior_sampler_b = posterior_sampler(\n",
    "    data=conv_b, \n",
    "    prior_sampler=prior_sampler_b,\n",
    "    simulate=lambda p: simulate_conversion(p, n_chances_b)\n",
    ")"
   ]
  },
  {
   "cell_type": "code",
   "execution_count": 11,
   "metadata": {},
   "outputs": [
    {
     "data": {
      "image/png": "[encoded data removed]",
      "text/plain": [
       "<matplotlib.figure.Figure at 0x1eb2cb4b908>"
      ]
     },
     "metadata": {},
     "output_type": "display_data"
    },
    {
     "name": "stdout",
     "output_type": "stream",
     "text": [
      "We can be 95.99% sure that A is better than B\n"
     ]
    }
   ],
   "source": [
    "plot_hist(posterior_sampler_a, posterior_sampler_b)"
   ]
  },
  {
   "cell_type": "markdown",
   "metadata": {},
   "source": [
    "----------------------"
   ]
  },
  {
   "cell_type": "code",
   "execution_count": 12,
   "metadata": {
    "collapsed": true
   },
   "outputs": [],
   "source": [
    "# Lets call the two soccer players as A and B\n",
    "# A has converted 53 out of 103 chances (52%) -- Aguero   in 16/17 EPL\n",
    "# B has converted 38 out of 69 chances (55%)  -- Coutinho in 16/17 EPL\n",
    "conv_a, n_chances_a = 53, 103\n",
    "conv_b, n_chances_b = 38, 69"
   ]
  },
  {
   "cell_type": "code",
   "execution_count": 13,
   "metadata": {
    "collapsed": true
   },
   "outputs": [],
   "source": [
    "# Prior beliefs that both players are uniform\n",
    "\n",
    "prior_sampler_a = prior_sampler_uniform()\n",
    "posterior_sampler_a = posterior_sampler(\n",
    "    data=conv_a, \n",
    "    prior_sampler=prior_sampler_a,\n",
    "    simulate=lambda p: simulate_conversion(p, n_chances_a)\n",
    ")\n",
    "\n",
    "prior_sampler_b = prior_sampler_uniform()\n",
    "posterior_sampler_b = posterior_sampler(\n",
    "    data=conv_b, \n",
    "    prior_sampler=prior_sampler_b,\n",
    "    simulate=lambda p: simulate_conversion(p, n_chances_b)\n",
    ")"
   ]
  },
  {
   "cell_type": "code",
   "execution_count": 14,
   "metadata": {},
   "outputs": [
    {
     "data": {
      "image/png": "[encoded data removed]",
      "text/plain": [
       "<matplotlib.figure.Figure at 0x1eb2cfc0c88>"
      ]
     },
     "metadata": {},
     "output_type": "display_data"
    },
    {
     "name": "stdout",
     "output_type": "stream",
     "text": [
      "We can be 33.14% sure that A is better than B\n"
     ]
    }
   ],
   "source": [
    "plot_hist(posterior_sampler_a, posterior_sampler_b)"
   ]
  },
  {
   "cell_type": "markdown",
   "metadata": {},
   "source": [
    "To Do:  \n",
    "Use PyMC package"
   ]
  }
 ],
 "metadata": {
  "kernelspec": {
   "display_name": "Python [conda root]",
   "language": "python",
   "name": "conda-root-py"
  },
  "language_info": {
   "codemirror_mode": {
    "name": "ipython",
    "version": 3
   },
   "file_extension": ".py",
   "mimetype": "text/x-python",
   "name": "python",
   "nbconvert_exporter": "python",
   "pygments_lexer": "ipython3",
   "version": "3.5.3"
  }
 },
 "nbformat": 4,
 "nbformat_minor": 2
}
