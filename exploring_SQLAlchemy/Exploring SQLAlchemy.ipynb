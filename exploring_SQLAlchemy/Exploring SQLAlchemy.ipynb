{
 "cells": [
  {
   "cell_type": "markdown",
   "metadata": {},
   "source": [
    "#### Learning SQLAlchemy\n",
    "\n",
    "https://www.sqlalchemy.org/library.html#tutorials"
   ]
  },
  {
   "cell_type": "code",
   "execution_count": 3,
   "metadata": {},
   "outputs": [
    {
     "name": "stdout",
     "output_type": "stream",
     "text": [
      "1.1.9\n"
     ]
    }
   ],
   "source": [
    "import sqlalchemy\n",
    "print(sqlalchemy.__version__)"
   ]
  },
  {
   "cell_type": "markdown",
   "metadata": {},
   "source": [
    "![SQLAlchemy Structure Overview](https://image.slidesharecdn.com/sqlaintro-130921142257-phpapp02/95/michael-bayer-introduction-to-sqlalchemy-postgres-open-6-638.jpg)"
   ]
  },
  {
   "cell_type": "code",
   "execution_count": 34,
   "metadata": {},
   "outputs": [],
   "source": [
    "import sqlite3\n",
    "conn = sqlite3.connect('memory.db')\n",
    "c = conn.cursor()\n",
    "\n",
    "def execute_sql_script(filename):\n",
    "    with open(filename, 'r') as fd:\n",
    "        sqlFile = fd.read()\n",
    "\n",
    "    sqlCommands = sqlFile.split(';')\n",
    "\n",
    "    for command in sqlCommands:\n",
    "        try:\n",
    "            c.execute(command)\n",
    "        except sqlite3.OperationalError as msg:\n",
    "            print(\"Command skipped: \", msg)"
   ]
  },
  {
   "cell_type": "code",
   "execution_count": 35,
   "metadata": {},
   "outputs": [
    {
     "name": "stdout",
     "output_type": "stream",
     "text": [
      "Command skipped:  cannot commit - no transaction is active\n",
      "Command skipped:  cannot commit - no transaction is active\n"
     ]
    }
   ],
   "source": [
    "execute_sql_script('cars.sql')\n",
    "execute_sql_script('author_books.sql')"
   ]
  },
  {
   "cell_type": "code",
   "execution_count": 36,
   "metadata": {
    "scrolled": true
   },
   "outputs": [
    {
     "name": "stdout",
     "output_type": "stream",
     "text": [
      "[('Cars',), ('Authors',), ('Books',)]\n"
     ]
    }
   ],
   "source": [
    "# List tables in databse\n",
    "c.execute(\"SELECT name FROM sqlite_master WHERE type='table';\")\n",
    "print(c.fetchall())\n",
    "c.close()"
   ]
  },
  {
   "cell_type": "code",
   "execution_count": 43,
   "metadata": {},
   "outputs": [
    {
     "name": "stdout",
     "output_type": "stream",
     "text": [
      "Data: 5\n"
     ]
    }
   ],
   "source": [
    "from sqlalchemy import create_engine\n",
    "eng = create_engine('sqlite:///memory')\n",
    "with eng.connect() as conn:\n",
    "    rs = conn.execute('SELECT 5')\n",
    "    data = rs.fetchone()[0]\n",
    "    print(\"Data: %s\" % data)"
   ]
  },
  {
   "cell_type": "code",
   "execution_count": 44,
   "metadata": {
    "collapsed": true
   },
   "outputs": [],
   "source": [
    "from sqlalchemy.sql import text\n",
    "with eng.connect() as conn:\n",
    "    conn.execute(text('DROP TABLE IF EXISTS Cars'))\n",
    "    conn.execute(text('''CREATE TABLE Cars(Id INTEGER PRIMARY KEY,\n",
    "    Name TEXT, Price INTEGER)'''))\n",
    "    \n",
    "    data = ( { \"Id\": 1, \"Name\": \"Audi\", \"Price\": 52642 },\n",
    "             { \"Id\": 2, \"Name\": \"Mercedes\", \"Price\": 57127 },\n",
    "             { \"Id\": 3, \"Name\": \"Skoda\", \"Price\": 9000 },\n",
    "             { \"Id\": 4, \"Name\": \"Volvo\", \"Price\": 29000 },\n",
    "             { \"Id\": 5, \"Name\": \"Bentley\", \"Price\": 350000 },\n",
    "             { \"Id\": 6, \"Name\": \"Citroen\", \"Price\": 21000 },\n",
    "             { \"Id\": 7, \"Name\": \"Hummer\", \"Price\": 41400 },\n",
    "             { \"Id\": 8, \"Name\": \"Volkswagen\", \"Price\": 21600 }\n",
    "    )\n",
    "    \n",
    "    for line in data:\n",
    "        conn.execute(text('''INSERT INTO Cars(Id, Name, Price) VALUES (:Id, :Name, :Price)'''), **line)"
   ]
  },
  {
   "cell_type": "code",
   "execution_count": 105,
   "metadata": {},
   "outputs": [],
   "source": [
    "from prettytable import PrettyTable, from_db_cursor\n",
    "def print_table(eng, table_name):\n",
    "    conn = eng.raw_connection()\n",
    "    cursor = conn.cursor()\n",
    "    cursor.execute('SELECT * FROM %s' % table_name)\n",
    "    y = from_db_cursor(cursor)\n",
    "    y.padding_width = 1\n",
    "    y.align[y.field_names[1]]=\"l\"\n",
    "    y.align[y.field_names[-1]]=\"r\"\n",
    "    print(y)\n",
    "    conn.close()"
   ]
  },
  {
   "cell_type": "code",
   "execution_count": 106,
   "metadata": {},
   "outputs": [
    {
     "name": "stdout",
     "output_type": "stream",
     "text": [
      "+----+------------+--------+\n",
      "| Id | Name       |  Price |\n",
      "+----+------------+--------+\n",
      "| 1  | Audi       |  52642 |\n",
      "| 2  | Mercedes   |  57127 |\n",
      "| 3  | Skoda      |   9000 |\n",
      "| 4  | Volvo      |  29000 |\n",
      "| 5  | Bentley    | 350000 |\n",
      "| 6  | Citroen    |  21000 |\n",
      "| 7  | Hummer     |  41400 |\n",
      "| 8  | Volkswagen |  21600 |\n",
      "+----+------------+--------+\n"
     ]
    }
   ],
   "source": [
    "print_table(eng, 'Cars')"
   ]
  },
  {
   "cell_type": "code",
   "execution_count": 82,
   "metadata": {},
   "outputs": [],
   "source": [
    "from sqlalchemy import create_engine, Table, Column, Integer, String, MetaData\n",
    "\n",
    "meta = MetaData()\n",
    "cars = Table('Cars', meta, \n",
    "             Column('Id', Integer, primary_key=True),\n",
    "             Column('Name', String),\n",
    "             Column('Price', Integer)\n",
    "            )"
   ]
  },
  {
   "cell_type": "code",
   "execution_count": 79,
   "metadata": {},
   "outputs": [
    {
     "name": "stdout",
     "output_type": "stream",
     "text": [
      "Columns:\n",
      "Cars.Id\n",
      "Cars.Name\n",
      "Cars.Price\n",
      "\n",
      "Primary Keys:\n",
      "Cars.Id\n"
     ]
    }
   ],
   "source": [
    "print(\"Columns:\")\n",
    "for col in cars.c:\n",
    "    print(col)\n",
    "    \n",
    "print(\"\\nPrimary Keys:\")\n",
    "for pk in cars.primary_key:\n",
    "    print(pk)"
   ]
  },
  {
   "cell_type": "code",
   "execution_count": 77,
   "metadata": {
    "scrolled": true
   },
   "outputs": [
    {
     "data": {
      "text/plain": [
       "('Id', Integer(), False, True)"
      ]
     },
     "execution_count": 77,
     "metadata": {},
     "output_type": "execute_result"
    }
   ],
   "source": [
    "col_id = cars.c.Id\n",
    "col_id.name, col_id.type, col_id.nullable, col_id.primary_key"
   ]
  },
  {
   "cell_type": "code",
   "execution_count": 84,
   "metadata": {},
   "outputs": [
    {
     "name": "stdout",
     "output_type": "stream",
     "text": [
      "Authors\n",
      "Cars\n",
      "Books\n"
     ]
    }
   ],
   "source": [
    "# reflect() - Sync Metadata object with database\n",
    "meta = MetaData()\n",
    "meta.reflect(bind=eng)\n",
    "\n",
    "for table in meta.tables:\n",
    "    print(table)"
   ]
  },
  {
   "cell_type": "code",
   "execution_count": 111,
   "metadata": {
    "scrolled": true
   },
   "outputs": [
    {
     "name": "stderr",
     "output_type": "stream",
     "text": [
      "C:\\Anaconda3\\lib\\site-packages\\ipykernel\\__main__.py:5: SADeprecationWarning: Call to deprecated method get_primary_keys.  Use get_pk_constraint instead.\n"
     ]
    },
    {
     "data": {
      "text/plain": [
       "(['Authors', 'Books', 'Cars'],\n",
       " [{'autoincrement': 'auto',\n",
       "   'default': None,\n",
       "   'name': 'Id',\n",
       "   'nullable': True,\n",
       "   'primary_key': 1,\n",
       "   'type': INTEGER()},\n",
       "  {'autoincrement': 'auto',\n",
       "   'default': None,\n",
       "   'name': 'Name',\n",
       "   'nullable': True,\n",
       "   'primary_key': 0,\n",
       "   'type': TEXT()},\n",
       "  {'autoincrement': 'auto',\n",
       "   'default': None,\n",
       "   'name': 'Price',\n",
       "   'nullable': True,\n",
       "   'primary_key': 0,\n",
       "   'type': INTEGER()}],\n",
       " ['Id'],\n",
       " ['main'])"
      ]
     },
     "execution_count": 111,
     "metadata": {},
     "output_type": "execute_result"
    }
   ],
   "source": [
    "# inspect() - Inspector: Low-level database schema inspection\n",
    "from sqlalchemy import inspect\n",
    "\n",
    "insp = inspect(eng)\n",
    "insp.get_table_names(), insp.get_columns(\"Cars\"), insp.get_primary_keys(\"Cars\"), insp.get_schema_names()"
   ]
  },
  {
   "cell_type": "code",
   "execution_count": 133,
   "metadata": {},
   "outputs": [
    {
     "name": "stdout",
     "output_type": "stream",
     "text": [
      "-  ----------  ------\n",
      "1  Audi         52642\n",
      "2  Mercedes     57127\n",
      "3  Skoda         9000\n",
      "4  Volvo        29000\n",
      "5  Bentley     350000\n",
      "6  Citroen      21000\n",
      "7  Hummer       41400\n",
      "8  Volkswagen   21600\n",
      "-  ----------  ------\n"
     ]
    }
   ],
   "source": [
    "# select() == SELECT\n",
    "from sqlalchemy.sql import select\n",
    "from tabulate import tabulate\n",
    "\n",
    "with eng.connect() as conn:\n",
    "    meta = MetaData(eng)\n",
    "    cars = Table('Cars', meta, autoload=True)\n",
    "    \n",
    "    stmt = select([cars])\n",
    "    rs = conn.execute(stmt)\n",
    "    print(tabulate(rs.fetchall()))\n",
    "    # print(rs.fetchall())"
   ]
  },
  {
   "cell_type": "code",
   "execution_count": 128,
   "metadata": {},
   "outputs": [
    {
     "name": "stdout",
     "output_type": "stream",
     "text": [
      "--------  -----\n",
      "Audi      52642\n",
      "Mercedes  57127\n",
      "Skoda      9000\n",
      "--------  -----\n"
     ]
    }
   ],
   "source": [
    "# select() - Selecting specific columns and limiting results\n",
    "with eng.connect() as conn:\n",
    "    meta = MetaData(eng)\n",
    "    cars = Table('Cars', meta, autoload=True)\n",
    "    \n",
    "    stmt = select([cars.c.Name, cars.c.Price]).limit(3)\n",
    "    rs = conn.execute(stmt)\n",
    "    \n",
    "    print(tabulate(rs.fetchall()))"
   ]
  },
  {
   "cell_type": "code",
   "execution_count": 130,
   "metadata": {},
   "outputs": [
    {
     "name": "stdout",
     "output_type": "stream",
     "text": [
      "-  ----------  -----\n",
      "4  Volvo       29000\n",
      "6  Citroen     21000\n",
      "8  Volkswagen  21600\n",
      "-  ----------  -----\n"
     ]
    }
   ],
   "source": [
    "# select() - Using where clause\n",
    "from sqlalchemy.sql import and_\n",
    "\n",
    "with eng.connect() as conn:\n",
    "    meta = MetaData(eng)\n",
    "    cars = Table('Cars', meta, autoload=True)\n",
    "    \n",
    "    stmt = select([cars]).where(and_(cars.c.Price > 10000, cars.c.Price < 40000))\n",
    "    rs = stmt.execute()\n",
    "    \n",
    "    print(tabulate(rs.fetchall()))"
   ]
  },
  {
   "cell_type": "code",
   "execution_count": 134,
   "metadata": {},
   "outputs": [
    {
     "name": "stdout",
     "output_type": "stream",
     "text": [
      "-  ----------  -----\n",
      "6  Citroen     21000\n",
      "8  Volkswagen  21600\n",
      "-  ----------  -----\n"
     ]
    }
   ],
   "source": [
    "# select() - Filtering output using where and 'like'\n",
    "with eng.connect() as conn:\n",
    "    meta = MetaData(eng)\n",
    "    cars = Table('Cars', meta, autoload=True)\n",
    "    \n",
    "    stmt = select([cars]).where(cars.c.Name.like('%en'))\n",
    "    rs = conn.execute(stmt)\n",
    "    \n",
    "    print(tabulate(rs.fetchall()))"
   ]
  },
  {
   "cell_type": "code",
   "execution_count": 138,
   "metadata": {},
   "outputs": [
    {
     "name": "stdout",
     "output_type": "stream",
     "text": [
      "-  ----------  ------\n",
      "1  Audi         52642\n",
      "5  Bentley     350000\n",
      "6  Citroen      21000\n",
      "7  Hummer       41400\n",
      "2  Mercedes     57127\n",
      "3  Skoda         9000\n",
      "8  Volkswagen   21600\n",
      "4  Volvo        29000\n",
      "-  ----------  ------\n"
     ]
    }
   ],
   "source": [
    "# order_by() == ORDER BY clause\n",
    "from sqlalchemy.sql import asc\n",
    "\n",
    "with eng.connect() as conn:\n",
    "    meta = MetaData(eng)\n",
    "    cars = Table('Cars', meta, autoload=True)\n",
    "    \n",
    "    stmt = select([cars]).order_by(asc(cars.c.Name))\n",
    "    rs = conn.execute(stmt)\n",
    "    \n",
    "    print(tabulate(rs.fetchall()))"
   ]
  },
  {
   "cell_type": "code",
   "execution_count": 139,
   "metadata": {},
   "outputs": [
    {
     "name": "stdout",
     "output_type": "stream",
     "text": [
      "-  ----------  -----\n",
      "2  Mercedes    57127\n",
      "4  Volvo       29000\n",
      "6  Citroen     21000\n",
      "8  Volkswagen  21600\n",
      "-  ----------  -----\n"
     ]
    }
   ],
   "source": [
    "# in_() == IN clause\n",
    "\n",
    "from sqlalchemy import tuple_\n",
    "\n",
    "with eng.connect() as conn:\n",
    "    meta = MetaData(eng)\n",
    "    cars = Table('Cars', meta, autoload=True)\n",
    "    \n",
    "    k = [(2,), (4,), (6,), (8,)]\n",
    "    stmt = select([cars]).where(tuple_(cars.c.Id).in_(k))\n",
    "    rs = conn.execute(stmt)\n",
    "    \n",
    "    print(tabulate(rs.fetchall()))"
   ]
  },
  {
   "cell_type": "code",
   "execution_count": 148,
   "metadata": {},
   "outputs": [
    {
     "name": "stdout",
     "output_type": "stream",
     "text": [
      "-  --------  -----\n",
      "1  Audi      52642\n",
      "2  Mercedes  57127\n",
      "3  Skoda      6000\n",
      "-  --------  -----\n"
     ]
    }
   ],
   "source": [
    "# Inserting values using insert()\n",
    "with eng.connect() as conn:\n",
    "    meta = MetaData(eng)\n",
    "    \n",
    "    drop_stmt = 'DROP TABLE IF EXISTS %s' % 'Cars'\n",
    "    _ = conn.execute(drop_stmt)\n",
    "    \n",
    "    cars = Table('Cars', meta,\n",
    "                 Column('Id', Integer, primary_key=True),\n",
    "                 Column('Name', String),\n",
    "                 Column('Price', Integer)\n",
    "                )\n",
    "    cars.create()\n",
    "    \n",
    "    ins1 = cars.insert().values(Id=1, Name='Audi', Price=52642)\n",
    "    conn.execute(ins1)\n",
    "    ins2 = cars.insert().values(Id=2, Name='Mercedes', Price=57127)\n",
    "    conn.execute(ins2)\n",
    "    ins3 = cars.insert().values(Id=3, Name='Skoda', Price=6000)\n",
    "    conn.execute(ins3)\n",
    "    \n",
    "    stmt = select([cars])\n",
    "    rs = conn.execute(stmt)\n",
    "    \n",
    "    print(tabulate(rs.fetchall()))"
   ]
  },
  {
   "cell_type": "code",
   "execution_count": 152,
   "metadata": {},
   "outputs": [
    {
     "name": "stdout",
     "output_type": "stream",
     "text": [
      "-  ---------------  -  -----------------  -\n",
      "1  Jane Austen      1  Emma               1\n",
      "2  Leo Tolstoy      2  War and Peace      2\n",
      "3  Joseph Heller    3  Catch XII          3\n",
      "4  Charles Dickens  4  David Copperfield  4\n",
      "3  Joseph Heller    5  Good as Gold       3\n",
      "2  Leo Tolstoy      6  Anna Karenia       2\n",
      "-  ---------------  -  -----------------  -\n"
     ]
    }
   ],
   "source": [
    "# join()\n",
    "from sqlalchemy import ForeignKey\n",
    "\n",
    "with eng.connect() as conn:\n",
    "    meta = MetaData(eng)\n",
    "    \n",
    "    authors = Table('Authors', meta, autoload=True)\n",
    "    books = Table('Books', meta, autoload=True)\n",
    "    \n",
    "    stmt = select([authors.join(books)])\n",
    "    rs = conn.execute(stmt)\n",
    "    \n",
    "    print(tabulate(rs.fetchall()))"
   ]
  },
  {
   "cell_type": "markdown",
   "metadata": {},
   "source": [
    "SQLAlchemy ORM (Object Relational Mapper)  \n",
    "- Classes to Tables\n",
    "- Instance Objects to Rows\n",
    "- Instance Attributes to Columns"
   ]
  },
  {
   "cell_type": "code",
   "execution_count": 172,
   "metadata": {},
   "outputs": [
    {
     "name": "stdout",
     "output_type": "stream",
     "text": [
      "Audi 52642\n",
      "Mercedes 57127\n",
      "Skoda 9000\n",
      "Volvo 29000\n",
      "Bentley 250000\n",
      "Citroen 21000\n",
      "Hummer 41400\n",
      "Volkswagen 21600\n"
     ]
    }
   ],
   "source": [
    "# ORM in SQLAlchemy - Example using a Car class\n",
    "\n",
    "from sqlalchemy.ext.declarative import declarative_base\n",
    "from sqlalchemy.orm import sessionmaker\n",
    "\n",
    "Base = declarative_base()\n",
    "\n",
    "conn = eng.connect()\n",
    "drop_stmt = 'DROP TABLE IF EXISTS %s' % 'Cars'\n",
    "_ = conn.execute(drop_stmt)\n",
    "conn.close()\n",
    "\n",
    "class Car(Base):\n",
    "    __tablename__ = 'Cars'\n",
    "    \n",
    "    Id = Column(Integer, primary_key=True)\n",
    "    Name = Column(String)\n",
    "    Price = Column(Integer)\n",
    "    \n",
    "Base.metadata.bind = eng\n",
    "Base.metadata.create_all()\n",
    "\n",
    "Session = sessionmaker(bind=eng)\n",
    "ses = Session()\n",
    "\n",
    "ses.add_all(\n",
    "[\n",
    "    Car(Id=1, Name='Audi', Price=52642),\n",
    "    Car(Id=2, Name='Mercedes', Price=57127),\n",
    "    Car(Id=3, Name='Skoda', Price=9000),\n",
    "    Car(Id=4, Name='Volvo', Price=29000),\n",
    "    Car(Id=5, Name='Bentley', Price=250000),\n",
    "    Car(Id=6, Name='Citroen', Price=21000),\n",
    "    Car(Id=7, Name='Hummer', Price=41400),\n",
    "    Car(Id=8, Name='Volkswagen', Price=21600),\n",
    "])\n",
    "ses.commit()\n",
    "\n",
    "rs = ses.query(Car).all()\n",
    "\n",
    "for car in rs:\n",
    "    print(car.Name, car.Price)"
   ]
  },
  {
   "cell_type": "code",
   "execution_count": 173,
   "metadata": {},
   "outputs": [
    {
     "name": "stdout",
     "output_type": "stream",
     "text": [
      "Audi 52642\n",
      "Mercedes 57127\n",
      "Skoda 9000\n",
      "Volvo 29000\n",
      "Bentley 250000\n",
      "Citroen 21000\n",
      "Hummer 41400\n",
      "Volkswagen 21600\n",
      "Oldsmobile 23450\n"
     ]
    }
   ],
   "source": [
    "# Adding a new car to the table\n",
    "\n",
    "c1 = Car(Name='Oldsmobile', Price=23450)\n",
    "ses.add(c1)\n",
    "ses.commit()\n",
    "\n",
    "rs = ses.query(Car).all()\n",
    "\n",
    "for car in rs:\n",
    "    print(car.Name, car.Price)"
   ]
  },
  {
   "cell_type": "code",
   "execution_count": 174,
   "metadata": {},
   "outputs": [
    {
     "name": "stdout",
     "output_type": "stream",
     "text": [
      "Citroen 21000\n",
      "Volkswagen 21600\n",
      "\n",
      " SELECT \"Cars\".\"Id\" AS \"Cars_Id\", \"Cars\".\"Name\" AS \"Cars_Name\", \"Cars\".\"Price\" AS \"Cars_Price\" \n",
      "FROM \"Cars\" \n",
      "WHERE \"Cars\".\"Name\" LIKE ?\n"
     ]
    }
   ],
   "source": [
    "# filter()\n",
    "rs = ses.query(Car).filter(Car.Name.like('%en'))\n",
    "for car in rs:\n",
    "    print(car.Name, car.Price)\n",
    "print('\\n', rs)"
   ]
  },
  {
   "cell_type": "code",
   "execution_count": 175,
   "metadata": {},
   "outputs": [
    {
     "name": "stdout",
     "output_type": "stream",
     "text": [
      "2 Mercedes 57127\n",
      "4 Volvo 29000\n",
      "6 Citroen 21000\n",
      "8 Volkswagen 21600\n"
     ]
    }
   ],
   "source": [
    "rs = ses.query(Car).filter(Car.Id.in_([2,4,6,8]))\n",
    "for car in rs:\n",
    "    print(car.Id, car.Name, car.Price)"
   ]
  },
  {
   "cell_type": "code",
   "execution_count": 192,
   "metadata": {},
   "outputs": [
    {
     "name": "stdout",
     "output_type": "stream",
     "text": [
      "War and Peace\n",
      "Anna Karenia\n",
      "\n",
      "Jane Austen\n"
     ]
    }
   ],
   "source": [
    "from sqlalchemy.orm import relationship\n",
    "\n",
    "Base = declarative_base()\n",
    "\n",
    "class Author(Base):\n",
    "    __tablename__ = \"Authors\" \n",
    "    \n",
    "    AuthorId = Column(Integer, primary_key=True)\n",
    "    Name = Column(String)\n",
    "    Books = relationship(\"Book\")\n",
    "    \n",
    "class Book(Base):\n",
    "    __tablename__ = \"Books\"\n",
    "    \n",
    "    BookId = Column(Integer, primary_key=True)\n",
    "    Title = Column(String)\n",
    "    AuthorId = Column(Integer, ForeignKey(\"Authors.AuthorId\"))\n",
    "    \n",
    "    Author = relationship(\"Author\")\n",
    "    \n",
    "res = ses.query(Author).filter(Author.Name==\"Leo Tolstoy\").first()\n",
    "\n",
    "for book in res.Books:\n",
    "    print(book.Title)\n",
    "\n",
    "print()\n",
    "res = ses.query(Book).filter(Book.Title==\"Emma\").first()\n",
    "print(res.Author.Name)"
   ]
  }
 ],
 "metadata": {
  "kernelspec": {
   "display_name": "Python [conda root]",
   "language": "python",
   "name": "conda-root-py"
  },
  "language_info": {
   "codemirror_mode": {
    "name": "ipython",
    "version": 3
   },
   "file_extension": ".py",
   "mimetype": "text/x-python",
   "name": "python",
   "nbconvert_exporter": "python",
   "pygments_lexer": "ipython3",
   "version": "3.5.3"
  }
 },
 "nbformat": 4,
 "nbformat_minor": 2
}
